{
 "cells": [
  {
   "cell_type": "code",
   "execution_count": 1,
   "id": "48a755db",
   "metadata": {},
   "outputs": [],
   "source": [
    "# Standard library imports\n",
    "import time\n",
    "import os\n",
    "\n",
    "# Third party library imports\n",
    "import scipy.io\n",
    "import pandas as pd\n",
    "import numpy as np\n",
    "import seaborn as sns\n",
    "import matplotlib.pyplot as plt\n",
    "from sklearn.preprocessing import MinMaxScaler, RobustScaler, StandardScaler\n",
    "\n",
    "plt.rcParams.update({'font.size': 12})"
   ]
  },
  {
   "cell_type": "code",
   "execution_count": 2,
   "id": "c6961b78",
   "metadata": {},
   "outputs": [
    {
     "name": "stdout",
     "output_type": "stream",
     "text": [
      "(7603, 101)\n",
      "Positive class fraction: 9.207%\n"
     ]
    }
   ],
   "source": [
    "mat = scipy.io.loadmat(r\"E:\\داده کاوی\\7 ۲۷دی\\mnist.mat\")\n",
    "df_full = pd.concat((pd.DataFrame(data=mat['X']), pd.DataFrame(data=mat['y'])), axis=1)\n",
    "df_full.columns = list(range(df_full.shape[1]-1)) + ['Class']\n",
    "print(df_full.shape)\n",
    "print('Positive class fraction: {:.3%}'.format(df_full.Class.mean()))"
   ]
  },
  {
   "cell_type": "code",
   "execution_count": 3,
   "id": "5af58f15",
   "metadata": {},
   "outputs": [
    {
     "name": "stdout",
     "output_type": "stream",
     "text": [
      "(7603, 101)\n",
      "Positive class fraction: 9.207%\n"
     ]
    }
   ],
   "source": [
    "print(df_full.shape)\n",
    "print('Positive class fraction: {:.3%}'.format(df_full.Class.mean()))"
   ]
  },
  {
   "cell_type": "code",
   "execution_count": 4,
   "id": "d6bb4a38",
   "metadata": {},
   "outputs": [],
   "source": [
    "X_min = mat['X'].min().min()\n",
    "X_max = mat['X'].max().max()"
   ]
  },
  {
   "cell_type": "code",
   "execution_count": 5,
   "id": "05ed4ab0",
   "metadata": {},
   "outputs": [],
   "source": [
    "df_full = pd.concat((pd.DataFrame(data=mat['X']), pd.DataFrame(data=mat['y'])), axis=1)\n",
    "df_full.columns = list(range(df_full.shape[1]-1)) + ['Class']"
   ]
  },
  {
   "cell_type": "code",
   "execution_count": 6,
   "id": "f4f89294",
   "metadata": {},
   "outputs": [
    {
     "name": "stdout",
     "output_type": "stream",
     "text": [
      "(7603, 79)\n"
     ]
    }
   ],
   "source": [
    "df_full = df_full.loc[:, df_full.var(axis=0) > 1E-6]\n",
    "print(df_full.shape)"
   ]
  },
  {
   "cell_type": "code",
   "execution_count": 7,
   "id": "eaacf5b0",
   "metadata": {},
   "outputs": [],
   "source": [
    "df_scaled = pd.concat(((df_full.iloc[:, :-1] - X_min)/(X_max - X_min), df_full.Class), axis=1)\n",
    "df_scaled.columns = df_full.columns"
   ]
  },
  {
   "cell_type": "code",
   "execution_count": 8,
   "id": "f05dff61",
   "metadata": {},
   "outputs": [
    {
     "data": {
      "text/plain": [
       "Index([      1,       2,       4,       5,       7,       8,       9,      10,\n",
       "            11,      12,      13,      14,      15,      16,      17,      18,\n",
       "            19,      20,      22,      23,      24,      25,      27,      29,\n",
       "            30,      31,      32,      33,      34,      35,      36,      38,\n",
       "            39,      41,      42,      43,      44,      45,      46,      47,\n",
       "            48,      49,      51,      54,      55,      56,      57,      58,\n",
       "            59,      62,      63,      64,      65,      66,      67,      68,\n",
       "            69,      71,      73,      74,      75,      76,      77,      79,\n",
       "            80,      81,      82,      83,      84,      85,      90,      92,\n",
       "            93,      94,      95,      96,      97,      98, 'Class'],\n",
       "      dtype='object')"
      ]
     },
     "execution_count": 8,
     "metadata": {},
     "output_type": "execute_result"
    }
   ],
   "source": [
    "df_scaled.columns"
   ]
  },
  {
   "cell_type": "code",
   "execution_count": 9,
   "id": "ae8eab89",
   "metadata": {},
   "outputs": [
    {
     "name": "stderr",
     "output_type": "stream",
     "text": [
      "C:\\Users\\ACER-PC\\anaconda3\\lib\\site-packages\\seaborn\\categorical.py:3714: UserWarning: The `factorplot` function has been renamed to `catplot`. The original name will be removed in a future release. Please update your code. Note that the default `kind` in `factorplot` (`'point'`) has changed `'strip'` in `catplot`.\n",
      "  warnings.warn(msg)\n",
      "C:\\Users\\ACER-PC\\anaconda3\\lib\\site-packages\\seaborn\\categorical.py:3720: UserWarning: The `size` parameter has been renamed to `height`; please update your code.\n",
      "  warnings.warn(msg, UserWarning)\n",
      "C:\\Users\\ACER-PC\\anaconda3\\lib\\site-packages\\seaborn\\_decorators.py:36: FutureWarning: Pass the following variable as a keyword arg: x. From version 0.12, the only valid positional argument will be `data`, and passing other arguments without an explicit keyword will result in an error or misinterpretation.\n",
      "  warnings.warn(\n"
     ]
    },
    {
     "data": {
      "image/png": "[encoded data removed]",
      "text/plain": [
       "<Figure size 770.825x360 with 1 Axes>"
      ]
     },
     "metadata": {
      "needs_background": "light"
     },
     "output_type": "display_data"
    }
   ],
   "source": [
    "df_long = pd.melt(df_scaled.iloc[:, -10:], \n",
    "                  \"Class\", var_name=\"feature\", value_name=\"value\")\n",
    "sns.factorplot(\"feature\", hue=\"Class\", y=\"value\", data=df_long, kind=\"box\", size=5, aspect=2)\n",
    "plt.show();"
   ]
  },
  {
   "cell_type": "code",
   "execution_count": 10,
   "id": "c6999502",
   "metadata": {},
   "outputs": [],
   "source": [
    "X_mnist, y_mnist = df_full.loc[:, df_full.columns != 'Class'], df_full.Class\n",
    "# with open(r\"E:\\داده کاوی\\7 ۲۷دی\",\"wb\") as f:\n",
    "#     np.save(f, X_mnist)\n",
    "#     np.save(f, y_mnist)"
   ]
  },
  {
   "cell_type": "markdown",
   "id": "d9a5b32a",
   "metadata": {},
   "source": [
    "## MAD"
   ]
  },
  {
   "cell_type": "code",
   "execution_count": 11,
   "id": "058a52c0",
   "metadata": {},
   "outputs": [],
   "source": [
    "from collections import defaultdict\n",
    "\n",
    "import pandas as pd\n",
    "import numpy as np\n",
    "import matplotlib.pyplot as plt\n",
    "import seaborn as sns\n",
    "plt.rcParams.update({'font.size': 12})\n",
    "from sklearn.metrics import (auc, average_precision_score, \n",
    "                              roc_auc_score, roc_curve, precision_recall_curve)\n",
    "from sklearn.preprocessing import StandardScaler, RobustScaler"
   ]
  },
  {
   "cell_type": "code",
   "execution_count": 12,
   "id": "337bb5a7",
   "metadata": {},
   "outputs": [],
   "source": [
    "def plot_metrics_curves(y_true, y_pred, title='',  **kwargs):\n",
    "    \"\"\"\n",
    "    Plots roc and precision-recall curves\n",
    "    \n",
    "    Arguments\n",
    "    =========\n",
    "    y_true (iterator) : actual labels\n",
    "    y_pred (iterator) : predicted labels\n",
    "    title (str) : title for subplots\n",
    "    **kwargs are for plt.plot()\n",
    "    \n",
    "    \"\"\"\n",
    "    x_roc, y_roc, _ = roc_curve(y_true, y_pred)\n",
    "    y_prc, x_prc, _ = precision_recall_curve(y_true, y_pred)   \n",
    "    \n",
    "    fig, axs = plt.subplots(1, 2, figsize=(10, 4))\n",
    "    axs[0].plot([0, 1], [0, 1], color='navy', lw=2, linestyle='--')\n",
    "    axs[0].plot(x_roc, y_roc, color='darkorange', lw=2, \n",
    "                label='{}ROC curve (area {:.2f})'.format(title, roc_auc_score(y_true, y_pred)),\n",
    "                            **kwargs)\n",
    "    axs[1].plot(x_prc, y_prc, color='darkorange', lw=2, \n",
    "                label='{}PR curve (area {:.2f})'.format(title, average_precision_score(y_true, y_pred) ),\n",
    "                            **kwargs)\n",
    "    for ax, labels in zip(axs, (('FPR', 'TPR'), ('TPR (recall)', 'precision'))):\n",
    "        ax.set_xlim([0.0, 1.0])\n",
    "        ax.set_ylim([0.0, 1.05])\n",
    "        ax.set_xlabel(labels[0])\n",
    "        ax.set_ylabel(labels[1])\n",
    "        ax.legend(loc=\"lower right\")\n",
    "    plt.show()"
   ]
  },
  {
   "cell_type": "code",
   "execution_count": 28,
   "id": "948ab653",
   "metadata": {},
   "outputs": [],
   "source": [
    "def plot_metrics_curves(y_true, y_pred, title='', label_extra='',  **kwargs):\n",
    "    \"\"\"\n",
    "    Plots roc and precision-recall curves\n",
    "\n",
    "    Arguments\n",
    "    =========\n",
    "    y_true (iterator) : actual labels\n",
    "    y_pred (iterator) : predicted labels\n",
    "    title (str) : title for subplots\n",
    "    **kwargs are for plt.plot()\n",
    "\n",
    "    \"\"\"\n",
    "    x_roc, y_roc, _ = roc_curve(y_true, y_pred)\n",
    "    y_prc, x_prc, _ = precision_recall_curve(y_true, y_pred)\n",
    "\n",
    "    fig, axs = plt.subplots(1, 2, figsize=(10, 4))\n",
    "    axs[0].plot([0, 1], [0, 1], color='navy', lw=2, linestyle='--')\n",
    "    axs[0].plot(x_roc, y_roc, color='darkorange', lw=2,\n",
    "                label='{}ROC curve (area {:.2f})'.format(label_extra, roc_auc_score(y_true, y_pred)),\n",
    "                            **kwargs)\n",
    "    axs[1].plot(x_prc, y_prc, color='darkorange', lw=2,\n",
    "                label='{}PRC curve (area {:.2f})'.format(label_extra, average_precision_score(y_true, y_pred)),\n",
    "                            **kwargs)\n",
    "    for ax, labels in zip(axs, (('FPR', 'TPR (recall)'), ('TPR (recall)', 'precision'))):\n",
    "        ax.set_xlim([0.0, 1.0])\n",
    "        ax.set_ylim([0.0, 1.05])\n",
    "        ax.set_xlabel(labels[0])\n",
    "        ax.set_ylabel(labels[1])\n",
    "        ax.legend(loc=\"lower right\")\n",
    "    plt.suptitle(title + 'N={} (frac_pos={:.2%})'.format(len(y_true), y_true.mean()))\n",
    "    plt.tight_layout(rect=(0.0, 0.0, 1.0, 0.9))\n",
    "    plt.show()"
   ]
  },
  {
   "cell_type": "code",
   "execution_count": 29,
   "id": "a70939ef",
   "metadata": {},
   "outputs": [],
   "source": [
    "def mad(X):\n",
    "    \"\"\" calculates the median over the first axis, of the column-wise normalized \n",
    "    absolute deviation (normalized by iqr)\n",
    "    \"\"\"\n",
    "    iqr =  np.quantile(X, 0.75, axis=0) - np.quantile(X, 0.25, axis=0)\n",
    "    #the IQR may be zero. To avoid inf, fill with the variance\n",
    "    iqr[np.where(iqr==0)] = np.var(X, axis=0)[np.where(iqr==0)] \n",
    "    return np.median(np.abs(X)/iqr, axis=1)\n",
    "\n",
    "def generate_auc_ap_tuple(X, y):\n",
    "    return roc_auc_score(y, mad(X)), average_precision_score(y, mad(X))"
   ]
  },
  {
   "cell_type": "code",
   "execution_count": 30,
   "id": "29499d6d",
   "metadata": {},
   "outputs": [],
   "source": [
    "AUC_metrics_dict = {}; AUC_metrics_dict['MAD'] = [''] * 4\n",
    "AP_metrics_dict = {}; AP_metrics_dict['MAD'] = [''] * 4"
   ]
  },
  {
   "cell_type": "code",
   "execution_count": 31,
   "id": "8efa23d6",
   "metadata": {},
   "outputs": [
    {
     "name": "stdout",
     "output_type": "stream",
     "text": [
      "Total number of point: 7603. Number of positives: 700 (fraction: 9.21%)\n"
     ]
    }
   ],
   "source": [
    "print('Total number of point: {}. Number of positives: {} (fraction: {:.2%})'.format(len(y_mnist),\n",
    "                                                                                     y_mnist.sum(), y_mnist.mean()))"
   ]
  },
  {
   "cell_type": "code",
   "execution_count": 1,
   "id": "c710a3c8",
   "metadata": {},
   "outputs": [],
   "source": [
    "print('MAD (full dataset), AUC: {:.3f}, APR: {:.3f}'.format(*generate_auc_ap_tuple(X_mnist, y_mnist)))"
   ]
  },
  {
   "cell_type": "code",
   "execution_count": 2,
   "id": "b88a9704",
   "metadata": {},
   "outputs": [],
   "source": [
    "# auc, ap = generate_auc_ap_tuple(X_mnist, y_mnist)\n",
    "# print('MNIST:  AUC: {:.3f}, APR: {:.3f}'.format(auc, ap))\n",
    "# AUC_metrics_dict['MAD'][3], AP_metrics_dict['MAD'][3] = np.round(auc, 2), np.round(ap, 2)"
   ]
  },
  {
   "cell_type": "markdown",
   "id": "3be3902f",
   "metadata": {},
   "source": [
    "## Outlier Detection Part III: (Extended) Isolation Forest"
   ]
  },
  {
   "cell_type": "code",
   "execution_count": 3,
   "id": "1444cb41",
   "metadata": {},
   "outputs": [],
   "source": [
    "# Standard library\n",
    "import types\n",
    "import time\n",
    "import os\n",
    "import pickle\n",
    "from collections import Counter\n",
    "from functools import wraps\n",
    "\n",
    "#3rd party imports\n",
    "import pandas as pd\n",
    "import numpy as np\n",
    "import matplotlib.pyplot as plt\n",
    "from collections import defaultdict\n",
    "from sklearn.preprocessing import MinMaxScaler, RobustScaler, StandardScaler\n",
    "from sklearn.model_selection import train_test_split, GridSearchCV\n",
    "from sklearn.preprocessing import StandardScaler, RobustScaler\n",
    "from sklearn.metrics import (auc, average_precision_score, \n",
    "                              roc_auc_score, roc_curve, precision_recall_curve)\n",
    "from sklearn.ensemble import RandomForestClassifier, IsolationForest\n",
    "from sklearn.cluster import DBSCAN\n",
    "from sklearn.linear_model import LinearRegression\n",
    "#import eif \n",
    "import seaborn as sns\n",
    "\n",
    "# misc.\n",
    "from blogutils import memotodisk, plot_metrics_curves, downsample_scale_split_df\n",
    "plt.rcParams.update({'font.size': 13})"
   ]
  },
  {
   "cell_type": "code",
   "execution_count": 4,
   "id": "b508d82d",
   "metadata": {},
   "outputs": [],
   "source": [
    "@memotodisk\n",
    "def iforest_outlier_predictor(X, n_jobs=2, **kwargs):\n",
    "    \"\"\" Takes an X-array and returns outlier scores\n",
    "    \"\"\"\n",
    "    t0 = time.perf_counter()\n",
    "    ifo = IsolationForest(n_jobs=n_jobs, **kwargs)\n",
    "    y = - ifo.fit(X).decision_function(X)\n",
    "    t = time.perf_counter() - t0    \n",
    "    return {'y': y, 't': t}\n",
    "\n",
    "@memotodisk\n",
    "def extended_iforest_outlier_predictor(X, **kwargs):\n",
    "    red_kwargs = {k: v for k, v in kwargs.items() if k != 'random_state'}\n",
    "    t0 = time.perf_counter()\n",
    "    ext_ifo = eif.iForest(X, ExtensionLevel=0, **red_kwargs)\n",
    "    y = ext_ifo.compute_paths(X_in=X)\n",
    "    t = time.perf_counter() - t0    \n",
    "    return {'y': y, 't': t}"
   ]
  },
  {
   "cell_type": "code",
   "execution_count": null,
   "id": "f2127e7a",
   "metadata": {},
   "outputs": [],
   "source": []
  }
 ],
 "metadata": {
  "kernelspec": {
   "display_name": "Python 3",
   "language": "python",
   "name": "python3"
  },
  "language_info": {
   "codemirror_mode": {
    "name": "ipython",
    "version": 3
   },
   "file_extension": ".py",
   "mimetype": "text/x-python",
   "name": "python",
   "nbconvert_exporter": "python",
   "pygments_lexer": "ipython3",
   "version": "3.8.8"
  }
 },
 "nbformat": 4,
 "nbformat_minor": 5
}
